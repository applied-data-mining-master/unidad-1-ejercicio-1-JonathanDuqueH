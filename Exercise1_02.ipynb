{
 "cells": [
  {
   "cell_type": "markdown",
   "metadata": {},
   "source": [
    "# Exercise 1.02: Creating an AI with Random Behavior for the Tic-Tac-Toe Game\n",
    "\n",
    "In this exercise, we'll create a framework for the tic-tac-toe game for experimentation. We will be modeling the game on the assumption that the AI player always starts the game. You will create a function that prints your internal representation, allows your opponent to enter a move randomly, and determines whether a player has won."
   ]
  },
  {
   "cell_type": "markdown",
   "metadata": {},
   "source": [
    "1.- We will import the choice function from the random library:"
   ]
  },
  {
   "cell_type": "code",
   "execution_count": 1,
   "metadata": {},
   "outputs": [],
   "source": [
    "import numpy as np\n",
    "from random import choice"
   ]
  },
  {
   "cell_type": "markdown",
   "metadata": {},
   "source": [
    "2.- Model the nine cells in a simple string.\n",
    "\n",
    "  > **Note**  \n",
    "  > A nine-character long Python string stores these cells in the following order: `123456789`. Let's determine the index triples that must contain matching signs so that a player wins the game"
   ]
  },
  {
   "cell_type": "code",
   "execution_count": 2,
   "metadata": {},
   "outputs": [],
   "source": [
    "combo_indices = [['0,1,2'], ['0,3,6'], ['0,4,8'], ['3,4,5'], ['6,7,8'], ['1,4,7'], ['2,5,8'], ['2,4,6']]"
   ]
  },
  {
   "cell_type": "markdown",
   "metadata": {},
   "source": [
    "3.- Define the sign constants for empty cells, the AI, and the opponent player"
   ]
  },
  {
   "cell_type": "code",
   "execution_count": 3,
   "metadata": {},
   "outputs": [],
   "source": [
    "EMPTY = \"-\"\n",
    "IA = \"X\"\n",
    "P = \"O\""
   ]
  },
  {
   "cell_type": "markdown",
   "metadata": {},
   "source": [
    "4.- Create a function that prints a board.\n",
    "\n",
    "  > add an empty row before and after the board so that we can easily read the game state"
   ]
  },
  {
   "cell_type": "code",
   "execution_count": 4,
   "metadata": {},
   "outputs": [
    {
     "name": "stdout",
     "output_type": "stream",
     "text": [
      "\n",
      "\n",
      "[['-' '-' '-']\n",
      " ['-' '-' '-']\n",
      " ['-' '-' '-']]\n",
      "\n",
      "\n"
     ]
    }
   ],
   "source": [
    "board = [[EMPTY,EMPTY,EMPTY],[EMPTY,EMPTY,EMPTY],[EMPTY,EMPTY,EMPTY]]\n",
    "\n",
    "def boardP(board):\n",
    "    print(\"\\n\")\n",
    "    board_r = np.array(board)\n",
    "    print(board_r)\n",
    "    print(\"\\n\")\n",
    "    \n",
    "boardP(board)"
   ]
  },
  {
   "cell_type": "markdown",
   "metadata": {},
   "source": [
    "5.- Describe a move of the human player.\n",
    "\n",
    "  > **Note**  \n",
    "  > The input arguments are the boards, the row numbers from $1$ to $3$, and the column numbers from $1$ to $3$. The return value of this function is a board containing the new move"
   ]
  },
  {
   "cell_type": "code",
   "execution_count": 5,
   "metadata": {},
   "outputs": [],
   "source": [
    "def player_move(board, row, col):\n",
    "    if board[row][col] != IA:\n",
    "        board[row][col] = P\n",
    "        return board\n",
    "    else:\n",
    "        return \"Espacio ocupado\""
   ]
  },
  {
   "cell_type": "markdown",
   "metadata": {},
   "source": [
    "6.- Define a random move on the part of the AI player. Generate all possible moves defining the  `all_moves_from_board` function, and then select a random move from the list of possible moves\n",
    "\n",
    "  >**Hints**  \n",
    "  >Defined a function called all_moves_from_board that goes through all the indexes on the board and checks whether they are empty (`v == EMPTY_SIGN`). If that's the case, this means that the move can be played and that the index has been added to a list of moves (`move_list`). Finally, we defined the `ai_move` function in order to randomly let the AI choose an index that is equal to a move in the game."
   ]
  },
  {
   "cell_type": "code",
   "execution_count": 6,
   "metadata": {},
   "outputs": [],
   "source": [
    "move_list = list()\n",
    "def all_moves_from_board(board, move_list):\n",
    "    k = 0\n",
    "    move_list.clear()\n",
    "    for i in range(3):\n",
    "        for j  in range(3):\n",
    "            if board[i][j] == EMPTY:\n",
    "                move_list.append(str(k))\n",
    "            k+=1\n",
    "\n",
    "all_moves_from_board(board, move_list)\n",
    "\n",
    "def ai_move(board, move_list):\n",
    "    index = choice(move_list)\n",
    "    \n",
    "    if index == '0':\n",
    "        board[0][0] = IA\n",
    "    elif index == '1':\n",
    "        board[0][1] = IA\n",
    "    elif index == '2':\n",
    "        board[0][2] = IA\n",
    "    elif index == '3':\n",
    "        board[1][0] = IA\n",
    "    elif index == '4':\n",
    "        board[1][1] = IA\n",
    "    elif index == '5':\n",
    "        board[1][2] = IA\n",
    "    elif index == '6':\n",
    "        board[2][0] = IA\n",
    "    elif index == '7':\n",
    "        board[2][1] = IA\n",
    "    elif index == '8':\n",
    "        board[2][2] = IA\n",
    "    else:\n",
    "        print(\"Next\")"
   ]
  },
  {
   "cell_type": "markdown",
   "metadata": {},
   "source": [
    "7.- Determine whether a player has won the game.\n",
    "\n",
    "  > **Hints**  \n",
    "  > Define the `game_won_by` function, which checks whether the board contains a combo of three identical indexes from the `combo_indices` variable to end the game."
   ]
  },
  {
   "cell_type": "code",
   "execution_count": 7,
   "metadata": {},
   "outputs": [
    {
     "data": {
      "text/plain": [
       "(False, 'Nothing')"
      ]
     },
     "execution_count": 7,
     "metadata": {},
     "output_type": "execute_result"
    }
   ],
   "source": [
    "def game_won_by(board):\n",
    "    won = False\n",
    "    winner = \"Nothing\"\n",
    "    for i in combo_indices:\n",
    "        if i == ['0,1,2']:\n",
    "            if board[0][0]==board[0][1] and board[0][1]==board[0][2] and board[0][2]!=EMPTY:\n",
    "                print(\"Ganador: \"+board[0][0])\n",
    "                won = True\n",
    "                winner = \"X\"\n",
    "                break\n",
    "        elif i == ['3,4,5']:\n",
    "            if board[1][0] == board[1][1] and board[1][1] == board[1][2] and board[1][2] != EMPTY:\n",
    "                print(\"Ganador: \"+board[1][0])\n",
    "                won = True\n",
    "                winner = \"X\"\n",
    "                print(\"Winn: \" + winner)\n",
    "                break\n",
    "        elif i == ['6,7,8']:\n",
    "            if board[2][0] == board[2][1] and board[2][1] == board[2][2] and board[2][2] != EMPTY:\n",
    "                print(\"Ganador: \"+board[2][0])\n",
    "                won = True\n",
    "                winner = \"X\"\n",
    "                print(\"Winn: \" + winner)\n",
    "                break\n",
    "        elif i == ['0,4,8']:\n",
    "            if board[0][0] == board[1][1] and board[1][1] == board[2][2] and board[2][2] != EMPTY:\n",
    "                print(\"Ganador: \"+board[0][0])\n",
    "                won = True\n",
    "                winner = \"X\"\n",
    "                print(\"Winn: \" + winner)\n",
    "                break\n",
    "        elif i == ['1,4,7']:\n",
    "            if board[0][1] == board[1][1] and board[1][1] == board[2][1] and board[2][1] != EMPTY:\n",
    "                print(\"Ganador: \"+board[1][1])\n",
    "                won = True\n",
    "                winner = \"X\"\n",
    "                print(\"Winn: \" + winner)\n",
    "                break\n",
    "        elif i == ['0,3,6']:\n",
    "            if board[0][0] == board[1][0] and board[1][0] == board[2][0] and board[2][0] != EMPTY:\n",
    "                print(\"Ganador: \"+board[1][0])\n",
    "                won = True\n",
    "                winner = \"X\"\n",
    "                print(\"Winn: \" + winner)\n",
    "                break\n",
    "        elif i == ['2,5,8']:\n",
    "            if board[0][2] == board[1][2] and board[1][2] == board[2][2] and board[2][2] != EMPTY:\n",
    "                print(\"Ganador: \"+board[1][2])\n",
    "                won = True\n",
    "                winner = \"X\"\n",
    "                print(\"Winn: \" + winner)\n",
    "                break\n",
    "        elif i == ['2,4,6']:\n",
    "            if board[0][2] == board[1][1] and board[1][1] == board[2][0] and board[2][0] != EMPTY:\n",
    "                print(\"Ganador: \"+board[1][1])\n",
    "                won = True\n",
    "                winner = \"X\"\n",
    "                print(\"Winn: \" + winner)\n",
    "                break\n",
    "        else:\n",
    "            print(\"Next\")\n",
    "    \n",
    "    return won, winner\n",
    "    \n",
    "game_won_by(board)"
   ]
  },
  {
   "cell_type": "markdown",
   "metadata": {},
   "source": [
    "8.- Finally, create a game loop so that we can test the interaction between the computer player and the human player.\n",
    "\n",
    "  > **Hints**  \n",
    "  >  * Conduct a brute-force search.\n",
    "  >  * Defined the function, which can be broken down into various parts. The first part is to initialize the board and fill it with empty signs (`board = EMPTY_SIGN * 9`). Then, we create a counter of the empty cell, which will help us to create a loop and determine the AI's turn.The second part is to create a function for the player and the AI engine to play the game against each other. As soon as one player makes a move, the `empty_cell_count` variable will decrease by $1$. The loop will keep going until either the `game_won_by` function finds a winner or there are no more possible moves on the board."
   ]
  },
  {
   "cell_type": "code",
   "execution_count": 8,
   "metadata": {},
   "outputs": [],
   "source": [
    "def game_loop(board):\n",
    "    #board = [[EMPTY,EMPTY,EMPTY],[EMPTY,EMPTY,EMPTY],[EMPTY,EMPTY,EMPTY]]\n",
    "    empty_cell_count = 9\n",
    "    won = False\n",
    "    winner = \"False\"\n",
    "    while empty_cell_count > 0 and won == False:\n",
    "        all_moves_from_board(board,move_list)\n",
    "        print(move_list)\n",
    "        if empty_cell_count % 2 == 1:\n",
    "            ai_move(board, move_list)\n",
    "            print(\"ia move\")\n",
    "            boardP(board)\n",
    "            won, winner = game_won_by(board)\n",
    "        else:\n",
    "            row = int(input('Fila: '))\n",
    "            col = int(input('Columna: '))\n",
    "            board = player_move(board, row, col)\n",
    "            boardP(board)\n",
    "            won, winner = game_won_by(board)\n",
    "        empty_cell_count = empty_cell_count - 1\n",
    "                \n",
    "    print(\"Juego terminado.\")\n",
    "    return winner\n",
    "\n"
   ]
  },
  {
   "cell_type": "markdown",
   "metadata": {},
   "source": [
    "9.- Use the `game_loop` function to run the game"
   ]
  },
  {
   "cell_type": "code",
   "execution_count": 9,
   "metadata": {},
   "outputs": [
    {
     "name": "stdout",
     "output_type": "stream",
     "text": [
      "['0', '1', '2', '3', '4', '5', '6', '7', '8']\n",
      "ia move\n",
      "\n",
      "\n",
      "[['-' '-' '-']\n",
      " ['-' '-' '-']\n",
      " ['-' '-' 'X']]\n",
      "\n",
      "\n",
      "['0', '1', '2', '3', '4', '5', '6', '7']\n",
      "Fila: 0\n",
      "Columna: 0\n",
      "\n",
      "\n",
      "[['O' '-' '-']\n",
      " ['-' '-' '-']\n",
      " ['-' '-' 'X']]\n",
      "\n",
      "\n",
      "['1', '2', '3', '4', '5', '6', '7']\n",
      "ia move\n",
      "\n",
      "\n",
      "[['O' 'X' '-']\n",
      " ['-' '-' '-']\n",
      " ['-' '-' 'X']]\n",
      "\n",
      "\n",
      "['2', '3', '4', '5', '6', '7']\n",
      "Fila: 1\n",
      "Columna: 0\n",
      "\n",
      "\n",
      "[['O' 'X' '-']\n",
      " ['O' '-' '-']\n",
      " ['-' '-' 'X']]\n",
      "\n",
      "\n",
      "['2', '4', '5', '6', '7']\n",
      "ia move\n",
      "\n",
      "\n",
      "[['O' 'X' '-']\n",
      " ['O' '-' 'X']\n",
      " ['-' '-' 'X']]\n",
      "\n",
      "\n",
      "['2', '4', '6', '7']\n",
      "Fila: 1\n",
      "Columna: 1\n",
      "\n",
      "\n",
      "[['O' 'X' '-']\n",
      " ['O' 'O' 'X']\n",
      " ['-' '-' 'X']]\n",
      "\n",
      "\n",
      "['2', '6', '7']\n",
      "ia move\n",
      "\n",
      "\n",
      "[['O' 'X' '-']\n",
      " ['O' 'O' 'X']\n",
      " ['X' '-' 'X']]\n",
      "\n",
      "\n",
      "['2', '7']\n",
      "Fila: 0\n",
      "Columna: 2\n",
      "\n",
      "\n",
      "[['O' 'X' 'O']\n",
      " ['O' 'O' 'X']\n",
      " ['X' '-' 'X']]\n",
      "\n",
      "\n",
      "['7']\n",
      "ia move\n",
      "\n",
      "\n",
      "[['O' 'X' 'O']\n",
      " ['O' 'O' 'X']\n",
      " ['X' 'X' 'X']]\n",
      "\n",
      "\n",
      "Ganador: X\n",
      "Winn: X\n",
      "Juego terminado.\n",
      "Winn. afuera X\n"
     ]
    }
   ],
   "source": [
    "winner = game_loop(board)\n",
    "print(\"Winn. afuera \"+winner)"
   ]
  }
 ],
 "metadata": {
  "kernelspec": {
   "display_name": "Python 3",
   "language": "python",
   "name": "python3"
  },
  "language_info": {
   "codemirror_mode": {
    "name": "ipython",
    "version": 3
   },
   "file_extension": ".py",
   "mimetype": "text/x-python",
   "name": "python",
   "nbconvert_exporter": "python",
   "pygments_lexer": "ipython3",
   "version": "3.8.5"
  }
 },
 "nbformat": 4,
 "nbformat_minor": 4
}
